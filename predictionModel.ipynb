{
 "cells": [
  {
   "cell_type": "code",
   "execution_count": 71,
   "metadata": {},
   "outputs": [],
   "source": [
    "import os\n",
    "import datetime\n",
    "from tqdm import tqdm\n",
    "import IPython\n",
    "import IPython.display\n",
    "import matplotlib as mpl\n",
    "import matplotlib.pyplot as plt\n",
    "import numpy as np\n",
    "import pandas as pd\n",
    "import seaborn as sns\n",
    "import tensorflow as tf\n",
    "from sklearn.model_selection import train_test_split\n",
    "from championWrapper import ChampionWrapper"
   ]
  },
  {
   "cell_type": "code",
   "execution_count": 72,
   "metadata": {},
   "outputs": [
    {
     "name": "stderr",
     "output_type": "stream",
     "text": [
      "/Users/timinzitari/miniforge3/envs/tensorflow_m1/lib/python3.9/site-packages/pandas/util/_decorators.py:311: ParserWarning: Length of header or names does not match length of data. This leads to a loss of data with index_col=False.\n",
      "  return func(*args, **kwargs)\n"
     ]
    },
    {
     "data": {
      "text/plain": [
       "158"
      ]
     },
     "execution_count": 72,
     "metadata": {},
     "output_type": "execute_result"
    }
   ],
   "source": [
    "in_data = pd.read_csv('pb_table.csv', index_col=False)\n",
    "champs = ChampionWrapper()\n",
    "\n",
    "num_champs = len(champs.champToID)\n",
    "num_champs\n"
   ]
  },
  {
   "cell_type": "code",
   "execution_count": 73,
   "metadata": {},
   "outputs": [
    {
     "data": {
      "text/html": [
       "<div>\n",
       "<style scoped>\n",
       "    .dataframe tbody tr th:only-of-type {\n",
       "        vertical-align: middle;\n",
       "    }\n",
       "\n",
       "    .dataframe tbody tr th {\n",
       "        vertical-align: top;\n",
       "    }\n",
       "\n",
       "    .dataframe thead th {\n",
       "        text-align: right;\n",
       "    }\n",
       "</style>\n",
       "<table border=\"1\" class=\"dataframe\">\n",
       "  <thead>\n",
       "    <tr style=\"text-align: right;\">\n",
       "      <th></th>\n",
       "      <th>BB1</th>\n",
       "      <th>RB1</th>\n",
       "      <th>BB2</th>\n",
       "      <th>RB2</th>\n",
       "      <th>BB3</th>\n",
       "      <th>RB3</th>\n",
       "      <th>BP1</th>\n",
       "      <th>RP1</th>\n",
       "      <th>RP2</th>\n",
       "      <th>BP2</th>\n",
       "      <th>BP3</th>\n",
       "      <th>RP3</th>\n",
       "      <th>RB4</th>\n",
       "      <th>BB4</th>\n",
       "      <th>RB5</th>\n",
       "      <th>BB5</th>\n",
       "      <th>RP4</th>\n",
       "      <th>BP4</th>\n",
       "      <th>BP5</th>\n",
       "      <th>RP5</th>\n",
       "    </tr>\n",
       "  </thead>\n",
       "  <tbody>\n",
       "    <tr>\n",
       "      <th>0</th>\n",
       "      <td>Lulu</td>\n",
       "      <td>Pantheon</td>\n",
       "      <td>Senna</td>\n",
       "      <td>Renekton</td>\n",
       "      <td>Olaf</td>\n",
       "      <td>Camille</td>\n",
       "      <td>Udyr</td>\n",
       "      <td>Twisted Fate</td>\n",
       "      <td>Kai'Sa</td>\n",
       "      <td>Samira</td>\n",
       "      <td>Azir</td>\n",
       "      <td>Taliyah</td>\n",
       "      <td>Rell</td>\n",
       "      <td>Alistar</td>\n",
       "      <td>Gragas</td>\n",
       "      <td>Jayce</td>\n",
       "      <td>Leona</td>\n",
       "      <td>Nautilus</td>\n",
       "      <td>Gangplank</td>\n",
       "      <td>Irelia</td>\n",
       "    </tr>\n",
       "    <tr>\n",
       "      <th>1</th>\n",
       "      <td>Lulu</td>\n",
       "      <td>Pantheon</td>\n",
       "      <td>Senna</td>\n",
       "      <td>Renekton</td>\n",
       "      <td>Olaf</td>\n",
       "      <td>Camille</td>\n",
       "      <td>Taliyah</td>\n",
       "      <td>Kai'Sa</td>\n",
       "      <td>Twisted Fate</td>\n",
       "      <td>Samira</td>\n",
       "      <td>Rell</td>\n",
       "      <td>Udyr</td>\n",
       "      <td>Orianna</td>\n",
       "      <td>Alistar</td>\n",
       "      <td>Azir</td>\n",
       "      <td>Nautilus</td>\n",
       "      <td>Leona</td>\n",
       "      <td>Gnar</td>\n",
       "      <td>Syndra</td>\n",
       "      <td>Irelia</td>\n",
       "    </tr>\n",
       "    <tr>\n",
       "      <th>2</th>\n",
       "      <td>Renekton</td>\n",
       "      <td>Pantheon</td>\n",
       "      <td>Camille</td>\n",
       "      <td>Lulu</td>\n",
       "      <td>Udyr</td>\n",
       "      <td>Seraphine</td>\n",
       "      <td>Olaf</td>\n",
       "      <td>Thresh</td>\n",
       "      <td>Graves</td>\n",
       "      <td>Senna</td>\n",
       "      <td>Tahm Kench</td>\n",
       "      <td>Aphelios</td>\n",
       "      <td>Twisted Fate</td>\n",
       "      <td>Azir</td>\n",
       "      <td>Karma</td>\n",
       "      <td>Orianna</td>\n",
       "      <td>Syndra</td>\n",
       "      <td>Zoe</td>\n",
       "      <td>Malphite</td>\n",
       "      <td>Gangplank</td>\n",
       "    </tr>\n",
       "    <tr>\n",
       "      <th>3</th>\n",
       "      <td>Renekton</td>\n",
       "      <td>Pantheon</td>\n",
       "      <td>Camille</td>\n",
       "      <td>Lulu</td>\n",
       "      <td>Thresh</td>\n",
       "      <td>Twisted Fate</td>\n",
       "      <td>Olaf</td>\n",
       "      <td>Udyr</td>\n",
       "      <td>Kai'Sa</td>\n",
       "      <td>Senna</td>\n",
       "      <td>Tahm Kench</td>\n",
       "      <td>Azir</td>\n",
       "      <td>Orianna</td>\n",
       "      <td>Irelia</td>\n",
       "      <td>Syndra</td>\n",
       "      <td>Jayce</td>\n",
       "      <td>Gnar</td>\n",
       "      <td>Karma</td>\n",
       "      <td>LeBlanc</td>\n",
       "      <td>Blitzcrank</td>\n",
       "    </tr>\n",
       "    <tr>\n",
       "      <th>4</th>\n",
       "      <td>Lulu</td>\n",
       "      <td>Pantheon</td>\n",
       "      <td>Lillia</td>\n",
       "      <td>Renekton</td>\n",
       "      <td>Olaf</td>\n",
       "      <td>Rell</td>\n",
       "      <td>Taliyah</td>\n",
       "      <td>Camille</td>\n",
       "      <td>Twisted Fate</td>\n",
       "      <td>Jax</td>\n",
       "      <td>Galio</td>\n",
       "      <td>Udyr</td>\n",
       "      <td>Samira</td>\n",
       "      <td>Senna</td>\n",
       "      <td>Thresh</td>\n",
       "      <td>Alistar</td>\n",
       "      <td>Kai'Sa</td>\n",
       "      <td>Xayah</td>\n",
       "      <td>Leona</td>\n",
       "      <td>Sett</td>\n",
       "    </tr>\n",
       "  </tbody>\n",
       "</table>\n",
       "</div>"
      ],
      "text/plain": [
       "        BB1       RB1      BB2       RB2     BB3           RB3      BP1  \\\n",
       "0      Lulu  Pantheon    Senna  Renekton    Olaf       Camille     Udyr   \n",
       "1      Lulu  Pantheon    Senna  Renekton    Olaf       Camille  Taliyah   \n",
       "2  Renekton  Pantheon  Camille      Lulu    Udyr     Seraphine     Olaf   \n",
       "3  Renekton  Pantheon  Camille      Lulu  Thresh  Twisted Fate     Olaf   \n",
       "4      Lulu  Pantheon   Lillia  Renekton    Olaf          Rell  Taliyah   \n",
       "\n",
       "            RP1           RP2     BP2         BP3       RP3           RB4  \\\n",
       "0  Twisted Fate        Kai'Sa  Samira        Azir   Taliyah          Rell   \n",
       "1        Kai'Sa  Twisted Fate  Samira        Rell      Udyr       Orianna   \n",
       "2        Thresh        Graves   Senna  Tahm Kench  Aphelios  Twisted Fate   \n",
       "3          Udyr        Kai'Sa   Senna  Tahm Kench      Azir       Orianna   \n",
       "4       Camille  Twisted Fate     Jax       Galio      Udyr        Samira   \n",
       "\n",
       "       BB4     RB5       BB5     RP4       BP4        BP5         RP5  \n",
       "0  Alistar  Gragas     Jayce   Leona  Nautilus  Gangplank      Irelia  \n",
       "1  Alistar    Azir  Nautilus   Leona      Gnar     Syndra      Irelia  \n",
       "2     Azir   Karma   Orianna  Syndra       Zoe   Malphite   Gangplank  \n",
       "3   Irelia  Syndra     Jayce    Gnar     Karma    LeBlanc  Blitzcrank  \n",
       "4    Senna  Thresh   Alistar  Kai'Sa     Xayah      Leona        Sett  "
      ]
     },
     "execution_count": 73,
     "metadata": {},
     "output_type": "execute_result"
    }
   ],
   "source": [
    "#isolate the input frames of hero choices by name\n",
    "isolated_input = in_data[['BB1', 'RB1', 'BB2', 'RB2', 'BB3', 'RB3', 'BP1', 'RP1','RP2','BP2','BP3', 'RP3', 'RB4','BB4', 'RB5', 'BB5', 'RP4', 'BP4','BP5', 'RP5']]\n",
    "isolated_input.head()"
   ]
  },
  {
   "cell_type": "code",
   "execution_count": 74,
   "metadata": {},
   "outputs": [
    {
     "data": {
      "text/plain": [
       "array([['Lulu', 'Pantheon', 'Senna', ..., 'Nautilus', 'Gangplank',\n",
       "        'Irelia'],\n",
       "       ['Lulu', 'Pantheon', 'Senna', ..., 'Gnar', 'Syndra', 'Irelia'],\n",
       "       ['Renekton', 'Pantheon', 'Camille', ..., 'Zoe', 'Malphite',\n",
       "        'Gangplank'],\n",
       "       ...,\n",
       "       ['Renekton', 'Ziggs', 'Thresh', ..., 'Volibear', 'Rakan', 'Braum'],\n",
       "       ['Ryze', 'LeBlanc', 'Tristana', ..., 'Sejuani', 'Jayce',\n",
       "        'Cassiopeia'],\n",
       "       ['Ryze', 'Kennen', 'Tristana', ..., 'Camille', 'Kindred', 'Jayce']],\n",
       "      dtype=object)"
      ]
     },
     "execution_count": 74,
     "metadata": {},
     "output_type": "execute_result"
    }
   ],
   "source": [
    "#Dataframe to Numpy\n",
    "inputnpArray = isolated_input.to_numpy()\n",
    "inputnpArray\n"
   ]
  },
  {
   "cell_type": "code",
   "execution_count": 75,
   "metadata": {},
   "outputs": [
    {
     "data": {
      "text/plain": [
       "array([[98, 71, 127, ..., 93, 41, 39],\n",
       "       [98, 71, 127, ..., 114, 107, 39],\n",
       "       [54, 71, 120, ..., 110, 50, 41],\n",
       "       ...,\n",
       "       [54, 97, 139, ..., 90, 145, 121],\n",
       "       [13, 7, 18, ..., 95, 103, 63],\n",
       "       [13, 76, 18, ..., 120, 123, 103]], dtype=object)"
      ]
     },
     "execution_count": 75,
     "metadata": {},
     "output_type": "execute_result"
    }
   ],
   "source": [
    "# Numpy convert Names to Ids\n",
    "for match in range(len(inputnpArray)):\n",
    "    for column in range(len(inputnpArray[match])):\n",
    "        inputnpArray[match][column] = champs.cNameToId(inputnpArray[match][column])\n",
    "\n",
    "inputnpArray\n",
    "\n"
   ]
  },
  {
   "cell_type": "code",
   "execution_count": null,
   "metadata": {},
   "outputs": [],
   "source": [
    "\n"
   ]
  },
  {
   "cell_type": "markdown",
   "metadata": {},
   "source": [
    "Here we have the data   \n",
    "In Raw form we want to make it into [In][Label] sets to    \n",
    "use in our Sequence to Sequence model   "
   ]
  },
  {
   "cell_type": "code",
   "execution_count": 76,
   "metadata": {},
   "outputs": [],
   "source": [
    "#Here we have the data\n",
    "# In Raw form we want to make it into [In][Label] sets to \n",
    "# use in our Sequence to Sequence model"
   ]
  },
  {
   "cell_type": "code",
   "execution_count": null,
   "metadata": {},
   "outputs": [],
   "source": []
  },
  {
   "cell_type": "code",
   "execution_count": 77,
   "metadata": {},
   "outputs": [
    {
     "name": "stdout",
     "output_type": "stream",
     "text": [
      "      BB1 RB1  BB2  RB2  BB3  RB3  BP1  RP1  RP2  BP2  BP3  RP3  RB4  BB4  \\\n",
      "0      98  71  127   54    2  120   68    4  112  138  136  118  149   12   \n",
      "1      98  71  127   54    2  120  118  112    4  138  149   68   57   12   \n",
      "2      54  71  120   98   68  113    2  139   88  127  125  151    4  136   \n",
      "3      54  71  120   98  139    4    2   68  112  127  125  136   57   39   \n",
      "4      98  71  157   54    2  149  118  120    4   24    3   68  138  127   \n",
      "...   ...  ..  ...  ...  ...  ...  ...  ...  ...  ...  ...  ...  ...  ...   \n",
      "4073    4  13    7   46    5  139   60  126   78  121  151   97  156  103   \n",
      "4074  139  97   54   60    4   13    7  120  104  103   46  126   92  151   \n",
      "4075   54  97  139   60  123   39   13    4  120   92   96    5   46  151   \n",
      "4076   13   7   18  139   92   76   97   39   55  120  144  152   57   75   \n",
      "4077   13  76   18   41   97   39    7  139  136   92  121   55   46   22   \n",
      "\n",
      "      RB5  BB5  RP4  BP4  BP5  RP5  \n",
      "0      70  103   78   93   41   39  \n",
      "1     136   93   78  114  107   39  \n",
      "2      43   57  107  110   50   41  \n",
      "3     107  103  114   43    7   49  \n",
      "4     139   12  112  146   78  153  \n",
      "...   ...  ...  ...  ...  ...  ...  \n",
      "4073   76   39   54  114  136   85  \n",
      "4074   72   18  145  122   12  146  \n",
      "4075    2   72   18   90  145  121  \n",
      "4076  123   22   72   95  103   63  \n",
      "4077    5   54  151  120  123  103  \n",
      "\n",
      "[4078 rows x 20 columns]\n"
     ]
    }
   ],
   "source": [
    "numberpd = pd.DataFrame(inputnpArray, columns=['BB1', 'RB1', 'BB2', 'RB2', 'BB3', 'RB3', 'BP1', 'RP1','RP2','BP2','BP3', 'RP3', 'RB4','BB4', 'RB5', 'BB5', 'RP4', 'BP4','BP5', 'RP5'])\n",
    "print(numberpd)"
   ]
  },
  {
   "cell_type": "code",
   "execution_count": 78,
   "metadata": {},
   "outputs": [],
   "source": [
    "traindf, testdf = train_test_split(numberpd, test_size=0.2)\n",
    "testdf, valdf = train_test_split(testdf, test_size=0.5)"
   ]
  },
  {
   "cell_type": "code",
   "execution_count": 79,
   "metadata": {},
   "outputs": [],
   "source": [
    "tfl = tf.keras.layers\n",
    "n_features=num_champs\n",
    "results = {}\n",
    "es = tf.keras.callbacks.EarlyStopping(monitor='val_loss', mode='min', patience=10)\n",
    "the_loss = 'mse'\n",
    "num_epochs=500\n",
    "from WindowGenerator import SplitGen\n",
    "\n",
    "splitter = SplitGen()\n",
    "train, test = train_test_split(inputnpArray, test_size=0.2)\n",
    "test, val = train_test_split(test, test_size=0.5)\n",
    "\n",
    "i=18\n",
    "o=2\n",
    "f=num_champs\n",
    "\n",
    "X_train, y_train = splitter.split_sequences(train, i, o, f)\n",
    "X_test, y_test = splitter.split_sequences(test, i, o, f)\n",
    "X_val, y_val = splitter.split_sequences(val, i, o, f)\n"
   ]
  },
  {
   "cell_type": "code",
   "execution_count": 80,
   "metadata": {},
   "outputs": [
    {
     "name": "stdout",
     "output_type": "stream",
     "text": [
      "Epoch 1/500\n",
      "102/102 [==============================] - 6s 48ms/step - loss: 0.0062 - accuracy: 0.0372 - val_loss: 0.0062 - val_accuracy: 0.0404\n",
      "Epoch 2/500\n",
      "102/102 [==============================] - 5s 48ms/step - loss: 0.0062 - accuracy: 0.0474 - val_loss: 0.0062 - val_accuracy: 0.0417\n",
      "Epoch 3/500\n",
      "102/102 [==============================] - 5s 47ms/step - loss: 0.0062 - accuracy: 0.0601 - val_loss: 0.0062 - val_accuracy: 0.0600\n",
      "Epoch 4/500\n",
      "102/102 [==============================] - 5s 51ms/step - loss: 0.0062 - accuracy: 0.0702 - val_loss: 0.0062 - val_accuracy: 0.0662\n",
      "Epoch 5/500\n",
      "102/102 [==============================] - 5s 48ms/step - loss: 0.0062 - accuracy: 0.0835 - val_loss: 0.0062 - val_accuracy: 0.0711\n",
      "Epoch 6/500\n",
      "102/102 [==============================] - 5s 47ms/step - loss: 0.0061 - accuracy: 0.0898 - val_loss: 0.0062 - val_accuracy: 0.0784\n",
      "Epoch 7/500\n",
      "102/102 [==============================] - 5s 48ms/step - loss: 0.0061 - accuracy: 0.0983 - val_loss: 0.0062 - val_accuracy: 0.0870\n",
      "Epoch 8/500\n",
      "102/102 [==============================] - 5s 47ms/step - loss: 0.0061 - accuracy: 0.1101 - val_loss: 0.0062 - val_accuracy: 0.0760\n",
      "Epoch 9/500\n",
      "102/102 [==============================] - 5s 48ms/step - loss: 0.0061 - accuracy: 0.1179 - val_loss: 0.0062 - val_accuracy: 0.0686\n",
      "Epoch 10/500\n",
      "102/102 [==============================] - 5s 49ms/step - loss: 0.0061 - accuracy: 0.1248 - val_loss: 0.0062 - val_accuracy: 0.0784\n",
      "Epoch 11/500\n",
      "102/102 [==============================] - 5s 48ms/step - loss: 0.0060 - accuracy: 0.1344 - val_loss: 0.0062 - val_accuracy: 0.0858\n",
      "Epoch 12/500\n",
      "102/102 [==============================] - 5s 48ms/step - loss: 0.0060 - accuracy: 0.1511 - val_loss: 0.0062 - val_accuracy: 0.0821\n",
      "Epoch 13/500\n",
      "102/102 [==============================] - 5s 49ms/step - loss: 0.0060 - accuracy: 0.1585 - val_loss: 0.0062 - val_accuracy: 0.0809\n",
      "Epoch 14/500\n",
      "102/102 [==============================] - 5s 48ms/step - loss: 0.0059 - accuracy: 0.1700 - val_loss: 0.0062 - val_accuracy: 0.0858\n",
      "Epoch 15/500\n",
      "102/102 [==============================] - 5s 48ms/step - loss: 0.0059 - accuracy: 0.1845 - val_loss: 0.0062 - val_accuracy: 0.0833\n",
      "Epoch 16/500\n",
      "102/102 [==============================] - 5s 51ms/step - loss: 0.0058 - accuracy: 0.1994 - val_loss: 0.0062 - val_accuracy: 0.0907\n",
      "Epoch 17/500\n",
      "102/102 [==============================] - 5s 47ms/step - loss: 0.0057 - accuracy: 0.2177 - val_loss: 0.0062 - val_accuracy: 0.0870\n",
      "\n",
      "\n",
      "eval-----\n",
      "13/13 [==============================] - 0s 15ms/step - loss: 0.0062 - accuracy: 0.1127\n",
      "[0.006199141964316368, 0.11274509876966476]\n"
     ]
    }
   ],
   "source": [
    "doubleLSTM_model = tf.keras.Sequential([\n",
    "    tfl.LSTM(512, activation='relu', input_shape=(i, f)),\n",
    "    tfl.RepeatVector(o),\n",
    "    tfl.LSTM(256, activation='relu', return_sequences=True),\n",
    "    tfl.TimeDistributed(tfl.Dense(32)),\n",
    "    tfl.TimeDistributed(tfl.Dense(f))\n",
    "])\n",
    "\n",
    "\n",
    "doubleLSTM_model.compile(optimizer='adam', loss=the_loss, metrics=['accuracy'])\n",
    "\n",
    "doubleLSTM_model.fit(X_train,y_train, validation_data=(X_val, y_val), callbacks=[es], epochs=num_epochs)\n",
    "print(\"\\n\\neval-----\")\n",
    "results['doubleLSTM']=doubleLSTM_model.evaluate(X_test, y_test)\n",
    "print(results['doubleLSTM'])\n",
    "\n"
   ]
  },
  {
   "cell_type": "code",
   "execution_count": 81,
   "metadata": {},
   "outputs": [
    {
     "name": "stdout",
     "output_type": "stream",
     "text": [
      "Epoch 1/500\n",
      "102/102 [==============================] - 10s 82ms/step - loss: 0.0433 - accuracy: 0.0017 - val_loss: 0.0063 - val_accuracy: 0.0000e+00\n",
      "Epoch 2/500\n",
      "102/102 [==============================] - 8s 79ms/step - loss: 0.0063 - accuracy: 0.0000e+00 - val_loss: 0.0063 - val_accuracy: 0.0000e+00\n",
      "Epoch 3/500\n",
      "102/102 [==============================] - 8s 80ms/step - loss: 0.0063 - accuracy: 0.0000e+00 - val_loss: 0.0063 - val_accuracy: 0.0000e+00\n",
      "Epoch 4/500\n",
      "102/102 [==============================] - 8s 79ms/step - loss: 0.0063 - accuracy: 0.0000e+00 - val_loss: 0.0063 - val_accuracy: 0.0000e+00\n",
      "Epoch 5/500\n",
      "102/102 [==============================] - 8s 80ms/step - loss: 0.0063 - accuracy: 0.0000e+00 - val_loss: 0.0063 - val_accuracy: 0.0000e+00\n",
      "Epoch 6/500\n",
      "102/102 [==============================] - 8s 80ms/step - loss: 0.0063 - accuracy: 0.0000e+00 - val_loss: 0.0063 - val_accuracy: 0.0000e+00\n",
      "Epoch 7/500\n",
      "102/102 [==============================] - 8s 79ms/step - loss: 0.0063 - accuracy: 0.0000e+00 - val_loss: 0.0063 - val_accuracy: 0.0000e+00\n",
      "Epoch 8/500\n",
      "102/102 [==============================] - 8s 79ms/step - loss: 0.0063 - accuracy: 0.0000e+00 - val_loss: 0.0063 - val_accuracy: 0.0000e+00\n",
      "Epoch 9/500\n",
      "102/102 [==============================] - 9s 85ms/step - loss: 0.0063 - accuracy: 0.0000e+00 - val_loss: 0.0063 - val_accuracy: 0.0000e+00\n",
      "Epoch 10/500\n",
      "102/102 [==============================] - 9s 88ms/step - loss: 0.0063 - accuracy: 0.0000e+00 - val_loss: 0.0063 - val_accuracy: 0.0000e+00\n",
      "Epoch 11/500\n",
      "102/102 [==============================] - 8s 83ms/step - loss: 0.0063 - accuracy: 0.0000e+00 - val_loss: 0.0063 - val_accuracy: 0.0000e+00\n",
      "\n",
      "\n",
      "eval-----\n",
      "13/13 [==============================] - 0s 25ms/step - loss: 0.0063 - accuracy: 0.0000e+00\n",
      "[0.0063291145488619804, 0.0]\n"
     ]
    }
   ],
   "source": [
    "bidoubleLSTM_model = tf.keras.Sequential([\n",
    "    tfl.Bidirectional(tfl.LSTM(512, activation='relu', input_shape=(i, f))),\n",
    "    tfl.RepeatVector(o),\n",
    "    tfl.Bidirectional(tfl.LSTM(256, activation='relu', return_sequences=True)),\n",
    "    tfl.TimeDistributed(tfl.Dense(64)),\n",
    "    tfl.TimeDistributed(tfl.Dense(f,activation='sigmoid'))\n",
    "])\n",
    "bidoubleLSTM_model.compile(optimizer='adam', loss=the_loss, metrics=['accuracy'])\n",
    "\n",
    "bidoubleLSTM_model.fit(X_train,y_train, validation_data=(X_val, y_val), callbacks=[es], epochs=num_epochs)\n",
    "print(\"\\n\\neval-----\")\n",
    "results['bidoubleLSTM']=bidoubleLSTM_model.evaluate(X_test, y_test)\n",
    "print(results['bidoubleLSTM'])"
   ]
  },
  {
   "cell_type": "code",
   "execution_count": 82,
   "metadata": {},
   "outputs": [
    {
     "name": "stdout",
     "output_type": "stream",
     "text": [
      "Epoch 1/500\n",
      "102/102 [==============================] - 9s 82ms/step - loss: 0.0062 - accuracy: 0.0383 - val_loss: 0.0062 - val_accuracy: 0.0466\n",
      "Epoch 2/500\n",
      "102/102 [==============================] - 8s 78ms/step - loss: 0.0062 - accuracy: 0.0504 - val_loss: 0.0062 - val_accuracy: 0.0564\n",
      "Epoch 3/500\n",
      "102/102 [==============================] - 8s 83ms/step - loss: 0.0062 - accuracy: 0.0739 - val_loss: 0.0062 - val_accuracy: 0.0699\n",
      "Epoch 4/500\n",
      "102/102 [==============================] - 8s 82ms/step - loss: 0.0062 - accuracy: 0.0771 - val_loss: 0.0062 - val_accuracy: 0.0686\n",
      "Epoch 5/500\n",
      "102/102 [==============================] - 8s 77ms/step - loss: 0.0061 - accuracy: 0.0861 - val_loss: 0.0062 - val_accuracy: 0.0711\n",
      "Epoch 6/500\n",
      "102/102 [==============================] - 8s 77ms/step - loss: 0.0061 - accuracy: 0.1025 - val_loss: 0.0062 - val_accuracy: 0.0784\n",
      "Epoch 7/500\n",
      "102/102 [==============================] - 8s 76ms/step - loss: 0.0061 - accuracy: 0.1151 - val_loss: 0.0062 - val_accuracy: 0.0882\n",
      "Epoch 8/500\n",
      "102/102 [==============================] - 8s 81ms/step - loss: 0.0061 - accuracy: 0.1240 - val_loss: 0.0062 - val_accuracy: 0.0809\n",
      "Epoch 9/500\n",
      "102/102 [==============================] - 8s 79ms/step - loss: 0.0060 - accuracy: 0.1355 - val_loss: 0.0062 - val_accuracy: 0.0882\n",
      "Epoch 10/500\n",
      "102/102 [==============================] - 8s 80ms/step - loss: 0.0060 - accuracy: 0.1487 - val_loss: 0.0062 - val_accuracy: 0.0956\n",
      "Epoch 11/500\n",
      "102/102 [==============================] - 8s 77ms/step - loss: 0.0060 - accuracy: 0.1625 - val_loss: 0.0062 - val_accuracy: 0.0882\n",
      "Epoch 12/500\n",
      "102/102 [==============================] - 8s 74ms/step - loss: 0.0059 - accuracy: 0.1804 - val_loss: 0.0062 - val_accuracy: 0.0907\n",
      "Epoch 13/500\n",
      "102/102 [==============================] - 8s 76ms/step - loss: 0.0059 - accuracy: 0.1939 - val_loss: 0.0062 - val_accuracy: 0.0797\n",
      "Epoch 14/500\n",
      "102/102 [==============================] - 8s 74ms/step - loss: 0.0058 - accuracy: 0.2108 - val_loss: 0.0062 - val_accuracy: 0.0907\n",
      "Epoch 15/500\n",
      "102/102 [==============================] - 8s 77ms/step - loss: 0.0057 - accuracy: 0.2423 - val_loss: 0.0062 - val_accuracy: 0.0980\n",
      "Epoch 16/500\n",
      "102/102 [==============================] - 8s 80ms/step - loss: 0.0056 - accuracy: 0.2601 - val_loss: 0.0062 - val_accuracy: 0.0821\n",
      "Epoch 17/500\n",
      "102/102 [==============================] - 9s 84ms/step - loss: 0.0055 - accuracy: 0.2805 - val_loss: 0.0063 - val_accuracy: 0.0846\n",
      "\n",
      "\n",
      "eval-----\n",
      "13/13 [==============================] - 0s 22ms/step - loss: 0.0063 - accuracy: 0.1066\n",
      "[0.006293037906289101, 0.10661764442920685]\n"
     ]
    }
   ],
   "source": [
    "hydoubleLSTM_model = tf.keras.Sequential([\n",
    "    tfl.Bidirectional(tfl.LSTM(512, activation='relu', input_shape=(i, f))),\n",
    "    tfl.RepeatVector(o),\n",
    "    tfl.LSTM(256, activation='relu', return_sequences=True),\n",
    "    tfl.TimeDistributed(tfl.Dense(64)),\n",
    "    tfl.TimeDistributed(tfl.Dense(f))\n",
    "])\n",
    "hydoubleLSTM_model.compile(optimizer='adam', loss=the_loss, metrics=['accuracy'])\n",
    "\n",
    "hydoubleLSTM_model.fit(X_train,y_train, validation_data=(X_val, y_val), callbacks=[es], epochs=num_epochs)\n",
    "print(\"\\n\\neval-----\")\n",
    "results['hydoublelstm']=hydoubleLSTM_model.evaluate(X_test, y_test)\n",
    "print(results['hydoublelstm'])"
   ]
  },
  {
   "cell_type": "code",
   "execution_count": 83,
   "metadata": {},
   "outputs": [
    {
     "name": "stdout",
     "output_type": "stream",
     "text": [
      "Epoch 1/500\n",
      "102/102 [==============================] - 5s 45ms/step - loss: 0.0062 - accuracy: 0.0532 - val_loss: 0.0062 - val_accuracy: 0.0650\n",
      "Epoch 2/500\n",
      "102/102 [==============================] - 5s 46ms/step - loss: 0.0062 - accuracy: 0.0768 - val_loss: 0.0062 - val_accuracy: 0.0723\n",
      "Epoch 3/500\n",
      "102/102 [==============================] - 5s 46ms/step - loss: 0.0062 - accuracy: 0.0906 - val_loss: 0.0062 - val_accuracy: 0.0723\n",
      "Epoch 4/500\n",
      "102/102 [==============================] - 4s 43ms/step - loss: 0.0061 - accuracy: 0.0996 - val_loss: 0.0062 - val_accuracy: 0.0772\n",
      "Epoch 5/500\n",
      "102/102 [==============================] - 4s 43ms/step - loss: 0.0061 - accuracy: 0.1117 - val_loss: 0.0062 - val_accuracy: 0.0870\n",
      "Epoch 6/500\n",
      "102/102 [==============================] - 4s 42ms/step - loss: 0.0061 - accuracy: 0.1188 - val_loss: 0.0062 - val_accuracy: 0.0858\n",
      "Epoch 7/500\n",
      "102/102 [==============================] - 4s 43ms/step - loss: 0.0061 - accuracy: 0.1292 - val_loss: 0.0062 - val_accuracy: 0.0784\n",
      "Epoch 8/500\n",
      "102/102 [==============================] - 4s 42ms/step - loss: 0.0060 - accuracy: 0.1380 - val_loss: 0.0062 - val_accuracy: 0.0846\n",
      "Epoch 9/500\n",
      "102/102 [==============================] - 5s 46ms/step - loss: 0.0060 - accuracy: 0.1524 - val_loss: 0.0062 - val_accuracy: 0.0784\n",
      "Epoch 10/500\n",
      "102/102 [==============================] - 5s 45ms/step - loss: 0.0060 - accuracy: 0.1685 - val_loss: 0.0062 - val_accuracy: 0.0858\n",
      "Epoch 11/500\n",
      "102/102 [==============================] - 5s 46ms/step - loss: 0.0059 - accuracy: 0.1803 - val_loss: 0.0062 - val_accuracy: 0.0735\n",
      "Epoch 12/500\n",
      "102/102 [==============================] - 5s 44ms/step - loss: 0.0059 - accuracy: 0.1951 - val_loss: 0.0062 - val_accuracy: 0.0919\n",
      "Epoch 13/500\n",
      "102/102 [==============================] - 5s 46ms/step - loss: 0.0058 - accuracy: 0.2201 - val_loss: 0.0063 - val_accuracy: 0.0895\n",
      "Epoch 14/500\n",
      "102/102 [==============================] - 5s 46ms/step - loss: 0.0057 - accuracy: 0.2469 - val_loss: 0.0063 - val_accuracy: 0.0895\n",
      "Epoch 15/500\n",
      "102/102 [==============================] - 5s 45ms/step - loss: 0.0057 - accuracy: 0.2689 - val_loss: 0.0063 - val_accuracy: 0.0931\n",
      "Epoch 16/500\n",
      "102/102 [==============================] - 5s 46ms/step - loss: 0.0056 - accuracy: 0.2892 - val_loss: 0.0063 - val_accuracy: 0.0833\n",
      "\n",
      "\n",
      "eval-----\n",
      "13/13 [==============================] - 0s 14ms/step - loss: 0.0063 - accuracy: 0.1164\n",
      "[0.006291882134974003, 0.11642156541347504]\n"
     ]
    }
   ],
   "source": [
    "lSTM_model = tf.keras.Sequential([\n",
    "    tfl.LSTM(512, activation='relu', input_shape=(i, f)),\n",
    "    tfl.RepeatVector(o),\n",
    "    tfl.TimeDistributed(tfl.Dense(64)),\n",
    "    tfl.TimeDistributed(tfl.Dense(f))\n",
    "])\n",
    "lSTM_model.compile(optimizer='adam', loss=the_loss, metrics=['accuracy'])\n",
    "\n",
    "lSTM_model.fit(X_train,y_train, validation_data=(X_val, y_val), callbacks=[es], epochs=num_epochs)\n",
    "print(\"\\n\\neval-----\")\n",
    "results['lstm']=lSTM_model.evaluate(X_test, y_test)\n",
    "print(results['lstm'])"
   ]
  },
  {
   "cell_type": "code",
   "execution_count": 84,
   "metadata": {},
   "outputs": [
    {
     "name": "stdout",
     "output_type": "stream",
     "text": [
      "Epoch 1/500\n",
      "102/102 [==============================] - 2s 19ms/step - loss: 0.0063 - accuracy: 0.0351 - val_loss: 0.0062 - val_accuracy: 0.0466\n",
      "Epoch 2/500\n",
      "102/102 [==============================] - 2s 23ms/step - loss: 0.0062 - accuracy: 0.0561 - val_loss: 0.0062 - val_accuracy: 0.0600\n",
      "Epoch 3/500\n",
      "102/102 [==============================] - 2s 22ms/step - loss: 0.0062 - accuracy: 0.0707 - val_loss: 0.0062 - val_accuracy: 0.0600\n",
      "Epoch 4/500\n",
      "102/102 [==============================] - 2s 19ms/step - loss: 0.0062 - accuracy: 0.0837 - val_loss: 0.0062 - val_accuracy: 0.0576\n",
      "Epoch 5/500\n",
      "102/102 [==============================] - 2s 19ms/step - loss: 0.0061 - accuracy: 0.1097 - val_loss: 0.0062 - val_accuracy: 0.0662\n",
      "Epoch 6/500\n",
      "102/102 [==============================] - 2s 19ms/step - loss: 0.0060 - accuracy: 0.1341 - val_loss: 0.0062 - val_accuracy: 0.0723\n",
      "Epoch 7/500\n",
      "102/102 [==============================] - 2s 20ms/step - loss: 0.0059 - accuracy: 0.1784 - val_loss: 0.0063 - val_accuracy: 0.0686\n",
      "Epoch 8/500\n",
      "102/102 [==============================] - 2s 19ms/step - loss: 0.0057 - accuracy: 0.2190 - val_loss: 0.0063 - val_accuracy: 0.0735\n",
      "Epoch 9/500\n",
      "102/102 [==============================] - 2s 21ms/step - loss: 0.0054 - accuracy: 0.2685 - val_loss: 0.0064 - val_accuracy: 0.0662\n",
      "Epoch 10/500\n",
      "102/102 [==============================] - 2s 20ms/step - loss: 0.0051 - accuracy: 0.3161 - val_loss: 0.0064 - val_accuracy: 0.0674\n",
      "Epoch 11/500\n",
      "102/102 [==============================] - 2s 20ms/step - loss: 0.0049 - accuracy: 0.3680 - val_loss: 0.0065 - val_accuracy: 0.0674\n",
      "Epoch 12/500\n",
      "102/102 [==============================] - 2s 21ms/step - loss: 0.0046 - accuracy: 0.4157 - val_loss: 0.0065 - val_accuracy: 0.0613\n",
      "Epoch 13/500\n",
      "102/102 [==============================] - 2s 19ms/step - loss: 0.0044 - accuracy: 0.4641 - val_loss: 0.0065 - val_accuracy: 0.0551\n",
      "\n",
      "\n",
      "eval-----\n",
      "13/13 [==============================] - 0s 6ms/step - loss: 0.0065 - accuracy: 0.0931\n",
      "[0.006473690737038851, 0.09313725680112839]\n"
     ]
    }
   ],
   "source": [
    "rnn_model = tf.keras.Sequential([\n",
    "    tfl.SimpleRNN(512, activation='relu', input_shape=(i, f)),\n",
    "    tfl.RepeatVector(o),\n",
    "    tfl.SimpleRNN(256, activation='relu', return_sequences=True),\n",
    "    tfl.TimeDistributed(tfl.Dense(128, activation='relu')),\n",
    "    tfl.TimeDistributed(tfl.Dense(f))\n",
    "])\n",
    "rnn_model.compile(optimizer='adam', loss=the_loss, metrics=['accuracy'])\n",
    "\n",
    "rnn_model.fit(X_train,y_train, validation_data=(X_val, y_val), callbacks=[es], epochs=num_epochs)\n",
    "print(\"\\n\\neval-----\")\n",
    "results['rnn']=rnn_model.evaluate(X_test, y_test)\n",
    "print(results['rnn'])"
   ]
  },
  {
   "cell_type": "code",
   "execution_count": 85,
   "metadata": {},
   "outputs": [
    {
     "name": "stdout",
     "output_type": "stream",
     "text": [
      "Epoch 1/500\n",
      "102/102 [==============================] - 1s 8ms/step - loss: 0.0063 - accuracy: 0.0331 - val_loss: 0.0062 - val_accuracy: 0.0441\n",
      "Epoch 2/500\n",
      "102/102 [==============================] - 1s 8ms/step - loss: 0.0062 - accuracy: 0.0422 - val_loss: 0.0062 - val_accuracy: 0.0417\n",
      "Epoch 3/500\n",
      "102/102 [==============================] - 1s 8ms/step - loss: 0.0062 - accuracy: 0.0443 - val_loss: 0.0062 - val_accuracy: 0.0429\n",
      "Epoch 4/500\n",
      "102/102 [==============================] - 1s 8ms/step - loss: 0.0062 - accuracy: 0.0538 - val_loss: 0.0062 - val_accuracy: 0.0368\n",
      "Epoch 5/500\n",
      "102/102 [==============================] - 1s 8ms/step - loss: 0.0062 - accuracy: 0.0670 - val_loss: 0.0062 - val_accuracy: 0.0392\n",
      "Epoch 6/500\n",
      "102/102 [==============================] - 1s 8ms/step - loss: 0.0062 - accuracy: 0.0903 - val_loss: 0.0062 - val_accuracy: 0.0429\n",
      "Epoch 7/500\n",
      "102/102 [==============================] - 1s 8ms/step - loss: 0.0061 - accuracy: 0.1030 - val_loss: 0.0062 - val_accuracy: 0.0490\n",
      "Epoch 8/500\n",
      "102/102 [==============================] - 1s 8ms/step - loss: 0.0061 - accuracy: 0.1278 - val_loss: 0.0062 - val_accuracy: 0.0466\n",
      "Epoch 9/500\n",
      "102/102 [==============================] - 1s 8ms/step - loss: 0.0060 - accuracy: 0.1491 - val_loss: 0.0063 - val_accuracy: 0.0515\n",
      "Epoch 10/500\n",
      "102/102 [==============================] - 1s 8ms/step - loss: 0.0059 - accuracy: 0.1798 - val_loss: 0.0063 - val_accuracy: 0.0551\n",
      "Epoch 11/500\n",
      "102/102 [==============================] - 1s 8ms/step - loss: 0.0059 - accuracy: 0.2143 - val_loss: 0.0063 - val_accuracy: 0.0539\n",
      "\n",
      "\n",
      "eval-----\n",
      "13/13 [==============================] - 0s 4ms/step - loss: 0.0063 - accuracy: 0.0760\n",
      "[0.006290123797953129, 0.07598039507865906]\n"
     ]
    }
   ],
   "source": [
    "singrnn_model = tf.keras.Sequential([\n",
    "    tfl.SimpleRNN(256, activation='relu', input_shape=(i, f)),\n",
    "    tfl.RepeatVector(o),\n",
    "    tfl.TimeDistributed(tfl.Dense(128, activation='relu')),\n",
    "    tfl.TimeDistributed(tfl.Dense(f))\n",
    "])\n",
    "singrnn_model.compile(optimizer='adam', loss=the_loss, metrics=['accuracy'])\n",
    "\n",
    "singrnn_model.fit(X_train,y_train, validation_data=(X_val, y_val), callbacks=[es], epochs=num_epochs)\n",
    "print(\"\\n\\neval-----\")\n",
    "results['singrnn']=singrnn_model.evaluate(X_test, y_test)\n",
    "print(results['singrnn'])"
   ]
  },
  {
   "cell_type": "code",
   "execution_count": null,
   "metadata": {},
   "outputs": [],
   "source": []
  },
  {
   "cell_type": "code",
   "execution_count": 86,
   "metadata": {},
   "outputs": [
    {
     "name": "stdout",
     "output_type": "stream",
     "text": [
      "Epoch 1/500\n",
      "102/102 [==============================] - 9s 79ms/step - loss: 0.0062 - accuracy: 0.0441 - val_loss: 0.0062 - val_accuracy: 0.0735\n",
      "Epoch 2/500\n",
      "102/102 [==============================] - 8s 79ms/step - loss: 0.0062 - accuracy: 0.0865 - val_loss: 0.0062 - val_accuracy: 0.0723\n",
      "Epoch 3/500\n",
      "102/102 [==============================] - 7s 73ms/step - loss: 0.0061 - accuracy: 0.1016 - val_loss: 0.0062 - val_accuracy: 0.0674\n",
      "Epoch 4/500\n",
      "102/102 [==============================] - 8s 75ms/step - loss: 0.0061 - accuracy: 0.1156 - val_loss: 0.0062 - val_accuracy: 0.0858\n",
      "Epoch 5/500\n",
      "102/102 [==============================] - 9s 84ms/step - loss: 0.0061 - accuracy: 0.1257 - val_loss: 0.0062 - val_accuracy: 0.0809\n",
      "Epoch 6/500\n",
      "102/102 [==============================] - 8s 74ms/step - loss: 0.0060 - accuracy: 0.1426 - val_loss: 0.0062 - val_accuracy: 0.0956\n",
      "Epoch 7/500\n",
      "102/102 [==============================] - 7s 72ms/step - loss: 0.0060 - accuracy: 0.1560 - val_loss: 0.0062 - val_accuracy: 0.1042\n",
      "Epoch 8/500\n",
      "102/102 [==============================] - 7s 70ms/step - loss: 0.0060 - accuracy: 0.1746 - val_loss: 0.0062 - val_accuracy: 0.1029\n",
      "Epoch 9/500\n",
      "102/102 [==============================] - 7s 73ms/step - loss: 0.0059 - accuracy: 0.1838 - val_loss: 0.0062 - val_accuracy: 0.1091\n",
      "Epoch 10/500\n",
      "102/102 [==============================] - 7s 70ms/step - loss: 0.0059 - accuracy: 0.2031 - val_loss: 0.0062 - val_accuracy: 0.0870\n",
      "Epoch 11/500\n",
      "102/102 [==============================] - 8s 76ms/step - loss: 0.0058 - accuracy: 0.2247 - val_loss: 0.0062 - val_accuracy: 0.0944\n",
      "Epoch 12/500\n",
      "102/102 [==============================] - 8s 74ms/step - loss: 0.0058 - accuracy: 0.2416 - val_loss: 0.0063 - val_accuracy: 0.0980\n",
      "Epoch 13/500\n",
      "102/102 [==============================] - 7s 70ms/step - loss: 0.0057 - accuracy: 0.2687 - val_loss: 0.0063 - val_accuracy: 0.0968\n",
      "Epoch 14/500\n",
      "102/102 [==============================] - 7s 68ms/step - loss: 0.0057 - accuracy: 0.2897 - val_loss: 0.0063 - val_accuracy: 0.0968\n",
      "Epoch 15/500\n",
      "102/102 [==============================] - 7s 69ms/step - loss: 0.0056 - accuracy: 0.3113 - val_loss: 0.0064 - val_accuracy: 0.0895\n",
      "Epoch 16/500\n",
      "102/102 [==============================] - 7s 71ms/step - loss: 0.0055 - accuracy: 0.3458 - val_loss: 0.0064 - val_accuracy: 0.0833\n",
      "\n",
      "\n",
      "eval-----\n",
      "13/13 [==============================] - 0s 20ms/step - loss: 0.0064 - accuracy: 0.1078\n",
      "[0.00637702364474535, 0.10784313827753067]\n"
     ]
    }
   ],
   "source": [
    "bi_LSTM_model = tf.keras.Sequential([\n",
    "    tfl.Bidirectional(tfl.LSTM(512, activation='relu', input_shape=(i, f))),\n",
    "    tfl.RepeatVector(o),\n",
    "    tfl.TimeDistributed(tfl.Dense(64)),\n",
    "    tfl.TimeDistributed(tfl.Dense(f))\n",
    "])\n",
    "bi_LSTM_model.compile(optimizer='adam', loss=the_loss, metrics=['accuracy'])\n",
    "\n",
    "bi_LSTM_model.fit(X_train,y_train, validation_data=(X_val, y_val), callbacks=[es], epochs=num_epochs)\n",
    "print(\"\\n\\neval-----\")\n",
    "results['bilstm']=bi_LSTM_model.evaluate(X_test, y_test)\n",
    "print(results['bilstm'])"
   ]
  },
  {
   "cell_type": "code",
   "execution_count": 87,
   "metadata": {},
   "outputs": [
    {
     "name": "stdout",
     "output_type": "stream",
     "text": [
      "Epoch 1/500\n",
      "102/102 [==============================] - 0s 1ms/step - loss: 0.0062 - accuracy: 0.0392 - val_loss: 0.0062 - val_accuracy: 0.0576\n",
      "Epoch 2/500\n",
      "102/102 [==============================] - 0s 783us/step - loss: 0.0062 - accuracy: 0.0769 - val_loss: 0.0062 - val_accuracy: 0.0674\n",
      "Epoch 3/500\n",
      "102/102 [==============================] - 0s 772us/step - loss: 0.0061 - accuracy: 0.1102 - val_loss: 0.0062 - val_accuracy: 0.0662\n",
      "Epoch 4/500\n",
      "102/102 [==============================] - 0s 771us/step - loss: 0.0061 - accuracy: 0.1360 - val_loss: 0.0062 - val_accuracy: 0.0772\n",
      "Epoch 5/500\n",
      "102/102 [==============================] - 0s 751us/step - loss: 0.0060 - accuracy: 0.1504 - val_loss: 0.0062 - val_accuracy: 0.0895\n",
      "Epoch 6/500\n",
      "102/102 [==============================] - 0s 769us/step - loss: 0.0060 - accuracy: 0.1662 - val_loss: 0.0063 - val_accuracy: 0.0797\n",
      "Epoch 7/500\n",
      "102/102 [==============================] - 0s 757us/step - loss: 0.0059 - accuracy: 0.1806 - val_loss: 0.0063 - val_accuracy: 0.0809\n",
      "Epoch 8/500\n",
      "102/102 [==============================] - 0s 762us/step - loss: 0.0059 - accuracy: 0.1911 - val_loss: 0.0063 - val_accuracy: 0.0772\n",
      "Epoch 9/500\n",
      "102/102 [==============================] - 0s 769us/step - loss: 0.0059 - accuracy: 0.1965 - val_loss: 0.0063 - val_accuracy: 0.0760\n",
      "Epoch 10/500\n",
      "102/102 [==============================] - 0s 766us/step - loss: 0.0059 - accuracy: 0.2063 - val_loss: 0.0063 - val_accuracy: 0.0821\n",
      "Epoch 11/500\n",
      "102/102 [==============================] - 0s 762us/step - loss: 0.0059 - accuracy: 0.2100 - val_loss: 0.0064 - val_accuracy: 0.0809\n",
      "Epoch 12/500\n",
      "102/102 [==============================] - 0s 757us/step - loss: 0.0058 - accuracy: 0.2187 - val_loss: 0.0064 - val_accuracy: 0.0760\n",
      "\n",
      "\n",
      "eval-----\n",
      "\n",
      "13/13 [==============================] - 0s 429us/step - loss: 0.0063 - accuracy: 0.0931\n",
      "[0.0063360948115587234, 0.09313725680112839]\n"
     ]
    }
   ],
   "source": [
    "CONV_WIDTH = 3\n",
    "conv_model = tf.keras.Sequential([\n",
    "\n",
    " tf.keras.layers.Lambda(lambda x: x[:, -CONV_WIDTH:, :]),\n",
    "    # Shape => [batch, 1, conv_units]\n",
    "    tf.keras.layers.Conv1D(32, activation='relu', kernel_size=(CONV_WIDTH)),\n",
    "    tf.keras.layers.Flatten(),\n",
    "    tfl.Dense(128),\n",
    "    tf.keras.layers.Dense(o*f,\n",
    "                          kernel_initializer=tf.initializers.zeros()),\n",
    "    # Shape => [batch, out_steps, features]\n",
    "    tf.keras.layers.Reshape([o, f])\n",
    "\n",
    "])\n",
    "conv_model.compile(optimizer='adam', loss=the_loss, metrics=['accuracy'])\n",
    "\n",
    "conv_model.fit(X_train,y_train, validation_data=(X_val, y_val), callbacks=[es], epochs=num_epochs)\n",
    "print(\"\\n\\neval-----\\n\")\n",
    "results['conv']=conv_model.evaluate(X_test, y_test)\n",
    "print(results['conv'])"
   ]
  },
  {
   "cell_type": "code",
   "execution_count": 88,
   "metadata": {},
   "outputs": [
    {
     "name": "stdout",
     "output_type": "stream",
     "text": [
      "Epoch 1/500\n",
      "102/102 [==============================] - 1s 9ms/step - loss: 0.0062 - accuracy: 0.0359 - val_loss: 0.0062 - val_accuracy: 0.0368\n",
      "Epoch 2/500\n",
      "102/102 [==============================] - 1s 9ms/step - loss: 0.0062 - accuracy: 0.0478 - val_loss: 0.0062 - val_accuracy: 0.0588\n",
      "Epoch 3/500\n",
      "102/102 [==============================] - 1s 9ms/step - loss: 0.0062 - accuracy: 0.0808 - val_loss: 0.0062 - val_accuracy: 0.0625\n",
      "Epoch 4/500\n",
      "102/102 [==============================] - 1s 9ms/step - loss: 0.0061 - accuracy: 0.1099 - val_loss: 0.0062 - val_accuracy: 0.0748\n",
      "Epoch 5/500\n",
      "102/102 [==============================] - 1s 9ms/step - loss: 0.0060 - accuracy: 0.1418 - val_loss: 0.0062 - val_accuracy: 0.0846\n",
      "Epoch 6/500\n",
      "102/102 [==============================] - 1s 9ms/step - loss: 0.0059 - accuracy: 0.1786 - val_loss: 0.0062 - val_accuracy: 0.0760\n",
      "Epoch 7/500\n",
      "102/102 [==============================] - 1s 9ms/step - loss: 0.0058 - accuracy: 0.2261 - val_loss: 0.0063 - val_accuracy: 0.0821\n",
      "Epoch 8/500\n",
      "102/102 [==============================] - 1s 9ms/step - loss: 0.0056 - accuracy: 0.2791 - val_loss: 0.0064 - val_accuracy: 0.0748\n",
      "Epoch 9/500\n",
      "102/102 [==============================] - 1s 9ms/step - loss: 0.0054 - accuracy: 0.3374 - val_loss: 0.0065 - val_accuracy: 0.0797\n",
      "Epoch 10/500\n",
      "102/102 [==============================] - 1s 9ms/step - loss: 0.0052 - accuracy: 0.3849 - val_loss: 0.0066 - val_accuracy: 0.0833\n",
      "Epoch 11/500\n",
      "102/102 [==============================] - 1s 9ms/step - loss: 0.0049 - accuracy: 0.4326 - val_loss: 0.0067 - val_accuracy: 0.0760\n",
      "Epoch 12/500\n",
      "102/102 [==============================] - 1s 9ms/step - loss: 0.0047 - accuracy: 0.4818 - val_loss: 0.0068 - val_accuracy: 0.0662\n",
      "Epoch 13/500\n",
      "102/102 [==============================] - 1s 9ms/step - loss: 0.0044 - accuracy: 0.5248 - val_loss: 0.0069 - val_accuracy: 0.0797\n",
      "Epoch 14/500\n",
      "102/102 [==============================] - 1s 9ms/step - loss: 0.0041 - accuracy: 0.5628 - val_loss: 0.0071 - val_accuracy: 0.0699\n",
      "\n",
      "eval-----\n",
      "\n",
      "13/13 [==============================] - 0s 3ms/step - loss: 0.0069 - accuracy: 0.0809\n",
      "[0.006919065956026316, 0.08088235557079315]\n"
     ]
    }
   ],
   "source": [
    "clstm_model = tf.keras.Sequential([\n",
    "    tf.keras.layers.Conv1D(32, activation='relu', kernel_size=(CONV_WIDTH)),\n",
    "    tfl.MaxPooling1D(pool_size=2),\n",
    "    tfl.Flatten(),\n",
    "    tfl.RepeatVector(o),\n",
    "    tfl.LSTM(512, activation='relu', return_sequences=True), \n",
    "    tfl.TimeDistributed(tfl.Dense(256,activation='relu')),\n",
    "    tfl.TimeDistributed(tfl.Dense(f))\n",
    "])\n",
    "\n",
    "clstm_model.compile(optimizer='adam', loss=the_loss, metrics=['accuracy'])\n",
    "\n",
    "clstm_model.fit(X_train,y_train, validation_data=(X_val, y_val), callbacks=[es], epochs=num_epochs)\n",
    "print(\"\\neval-----\\n\")\n",
    "results['clstm']=clstm_model.evaluate(X_test, y_test)\n",
    "print(results['clstm'])"
   ]
  },
  {
   "cell_type": "code",
   "execution_count": 89,
   "metadata": {},
   "outputs": [
    {
     "name": "stdout",
     "output_type": "stream",
     "text": [
      "{'doubleLSTM': [0.006199141964316368, 0.11274509876966476], 'bidoubleLSTM': [0.0063291145488619804, 0.0], 'hydoublelstm': [0.006293037906289101, 0.10661764442920685], 'lstm': [0.006291882134974003, 0.11642156541347504], 'rnn': [0.006473690737038851, 0.09313725680112839], 'singrnn': [0.006290123797953129, 0.07598039507865906], 'bilstm': [0.00637702364474535, 0.10784313827753067], 'conv': [0.0063360948115587234, 0.09313725680112839], 'clstm': [0.006919065956026316, 0.08088235557079315]}\n",
      "max on test: hydoublelstm: [0.006293037906289101, 0.10661764442920685]\n"
     ]
    }
   ],
   "source": [
    "print(results)\n",
    "win = max(results, key=lambda x: results[x][1])\n",
    "print(f'max on test: {win}: {results[win]}')\n",
    "y = max(results, key=lambda x: results[x][1])\n",
    "print (results[y])"
   ]
  },
  {
   "cell_type": "code",
   "execution_count": 95,
   "metadata": {},
   "outputs": [
    {
     "name": "stdout",
     "output_type": "stream",
     "text": [
      "mse\n"
     ]
    },
    {
     "name": "stderr",
     "output_type": "stream",
     "text": [
      "0it [00:00, ?it/s]"
     ]
    },
    {
     "name": "stdout",
     "output_type": "stream",
     "text": [
      "clstm\n",
      "13/13 [==============================] - 0s 3ms/step - loss: 0.0066 - accuracy: 0.0784\n"
     ]
    },
    {
     "name": "stderr",
     "output_type": "stream",
     "text": [
      "1it [00:20, 20.60s/it]"
     ]
    },
    {
     "name": "stdout",
     "output_type": "stream",
     "text": [
      "bilstm\n",
      "13/13 [==============================] - 0s 20ms/step - loss: 0.0068 - accuracy: 0.1042\n"
     ]
    },
    {
     "name": "stderr",
     "output_type": "stream",
     "text": [
      "2it [01:35, 52.36s/it]"
     ]
    },
    {
     "name": "stdout",
     "output_type": "stream",
     "text": [
      "lstm\n",
      "13/13 [==============================] - 0s 13ms/step - loss: 0.0067 - accuracy: 0.1164\n"
     ]
    },
    {
     "name": "stderr",
     "output_type": "stream",
     "text": [
      "3it [02:21, 49.41s/it]"
     ]
    },
    {
     "name": "stdout",
     "output_type": "stream",
     "text": [
      "hylstm\n",
      "13/13 [==============================] - 0s 20ms/step - loss: 0.0065 - accuracy: 0.1005\n"
     ]
    },
    {
     "name": "stderr",
     "output_type": "stream",
     "text": [
      "4it [03:50, 65.36s/it]"
     ]
    },
    {
     "name": "stdout",
     "output_type": "stream",
     "text": [
      "doubllstm\n",
      "13/13 [==============================] - 0s 13ms/step - loss: 0.0064 - accuracy: 0.1078\n"
     ]
    },
    {
     "name": "stderr",
     "output_type": "stream",
     "text": [
      "5it [04:45, 61.48s/it]"
     ]
    },
    {
     "name": "stdout",
     "output_type": "stream",
     "text": [
      "bidoublels\n"
     ]
    }
   ],
   "source": [
    "models = [clstm_model, bi_LSTM_model, lSTM_model,hydoubleLSTM_model,doubleLSTM_model,bidoubleLSTM_model,rnn_model,singrnn_model,conv_model]\n",
    "losses = ['mse', 'categorical_crossentropy', 'binary_crossentropy']\n",
    "names = ['clstm', 'bilstm', 'lstm', 'hylstm', 'doubllstm', 'bidoublels', 'rnn', 'singrnn', 'conv']\n",
    "results = {}\n",
    "for loss in losses:\n",
    "    the_loss = loss\n",
    "    print(loss)\n",
    "    for model, name in tqdm(zip(models, names)):\n",
    "        print(name)\n",
    "        model.fit(X_train,y_train, validation_data=(X_val, y_val), callbacks=[es], epochs=num_epochs, verbose=0)\n",
    "        results[f'{loss}_{name}']= model.evaluate(X_test, y_test)\n",
    "\n",
    "\n"
   ]
  },
  {
   "cell_type": "code",
   "execution_count": null,
   "metadata": {},
   "outputs": [],
   "source": [
    "print(results)"
   ]
  },
  {
   "cell_type": "code",
   "execution_count": null,
   "metadata": {},
   "outputs": [],
   "source": []
  },
  {
   "cell_type": "code",
   "execution_count": null,
   "metadata": {},
   "outputs": [],
   "source": []
  },
  {
   "cell_type": "code",
   "execution_count": null,
   "metadata": {},
   "outputs": [],
   "source": []
  }
 ],
 "metadata": {
  "interpreter": {
   "hash": "31f2aee4e71d21fbe5cf8b01ff0e069b9275f58929596ceb00d14d90e3e16cd6"
  },
  "kernelspec": {
   "display_name": "Python 3.8.10 64-bit",
   "language": "python",
   "name": "python3"
  },
  "language_info": {
   "codemirror_mode": {
    "name": "ipython",
    "version": 3
   },
   "file_extension": ".py",
   "mimetype": "text/x-python",
   "name": "python",
   "nbconvert_exporter": "python",
   "pygments_lexer": "ipython3",
   "version": "3.9.0"
  },
  "orig_nbformat": 4
 },
 "nbformat": 4,
 "nbformat_minor": 2
}
