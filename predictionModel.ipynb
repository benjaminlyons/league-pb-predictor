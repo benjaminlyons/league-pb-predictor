{
 "cells": [
  {
   "cell_type": "code",
   "execution_count": 1,
   "metadata": {},
   "outputs": [
    {
     "name": "stderr",
     "output_type": "stream",
     "text": [
      "Matplotlib created a temporary config/cache directory at /var/folders/0j/8rftv2kj1s78h279hjwnc1q40000gn/T/matplotlib-9earhwii because the default path (/Users/timinzitari/.matplotlib) is not a writable directory; it is highly recommended to set the MPLCONFIGDIR environment variable to a writable directory, in particular to speed up the import of Matplotlib and to better support multiprocessing.\n"
     ]
    }
   ],
   "source": [
    "import os\n",
    "import datetime\n",
    "from tqdm import tqdm\n",
    "import IPython\n",
    "import IPython.display\n",
    "import matplotlib as mpl\n",
    "import matplotlib.pyplot as plt\n",
    "import numpy as np\n",
    "import pandas as pd\n",
    "import seaborn as sns\n",
    "import tensorflow as tf\n",
    "from sklearn.model_selection import train_test_split\n",
    "from championWrapper import ChampionWrapper"
   ]
  },
  {
   "cell_type": "code",
   "execution_count": 2,
   "metadata": {},
   "outputs": [
    {
     "name": "stderr",
     "output_type": "stream",
     "text": [
      "/Users/timinzitari/miniforge3/envs/tensorflow_m1/lib/python3.9/site-packages/pandas/util/_decorators.py:311: ParserWarning: Length of header or names does not match length of data. This leads to a loss of data with index_col=False.\n",
      "  return func(*args, **kwargs)\n"
     ]
    },
    {
     "data": {
      "text/plain": [
       "158"
      ]
     },
     "execution_count": 2,
     "metadata": {},
     "output_type": "execute_result"
    }
   ],
   "source": [
    "in_data = pd.read_csv('pb_table.csv', index_col=False)\n",
    "champs = ChampionWrapper()\n",
    "\n",
    "num_champs = len(champs.champToID)\n",
    "num_champs\n"
   ]
  },
  {
   "cell_type": "code",
   "execution_count": 3,
   "metadata": {},
   "outputs": [
    {
     "data": {
      "text/html": [
       "<div>\n",
       "<style scoped>\n",
       "    .dataframe tbody tr th:only-of-type {\n",
       "        vertical-align: middle;\n",
       "    }\n",
       "\n",
       "    .dataframe tbody tr th {\n",
       "        vertical-align: top;\n",
       "    }\n",
       "\n",
       "    .dataframe thead th {\n",
       "        text-align: right;\n",
       "    }\n",
       "</style>\n",
       "<table border=\"1\" class=\"dataframe\">\n",
       "  <thead>\n",
       "    <tr style=\"text-align: right;\">\n",
       "      <th></th>\n",
       "      <th>BB1</th>\n",
       "      <th>RB1</th>\n",
       "      <th>BB2</th>\n",
       "      <th>RB2</th>\n",
       "      <th>BB3</th>\n",
       "      <th>RB3</th>\n",
       "      <th>BP1</th>\n",
       "      <th>RP1</th>\n",
       "      <th>RP2</th>\n",
       "      <th>BP2</th>\n",
       "      <th>BP3</th>\n",
       "      <th>RP3</th>\n",
       "      <th>RB4</th>\n",
       "      <th>BB4</th>\n",
       "      <th>RB5</th>\n",
       "      <th>BB5</th>\n",
       "      <th>RP4</th>\n",
       "      <th>BP4</th>\n",
       "      <th>BP5</th>\n",
       "      <th>RP5</th>\n",
       "    </tr>\n",
       "  </thead>\n",
       "  <tbody>\n",
       "    <tr>\n",
       "      <th>0</th>\n",
       "      <td>Lulu</td>\n",
       "      <td>Pantheon</td>\n",
       "      <td>Senna</td>\n",
       "      <td>Renekton</td>\n",
       "      <td>Olaf</td>\n",
       "      <td>Camille</td>\n",
       "      <td>Udyr</td>\n",
       "      <td>Twisted Fate</td>\n",
       "      <td>Kai'Sa</td>\n",
       "      <td>Samira</td>\n",
       "      <td>Azir</td>\n",
       "      <td>Taliyah</td>\n",
       "      <td>Rell</td>\n",
       "      <td>Alistar</td>\n",
       "      <td>Gragas</td>\n",
       "      <td>Jayce</td>\n",
       "      <td>Leona</td>\n",
       "      <td>Nautilus</td>\n",
       "      <td>Gangplank</td>\n",
       "      <td>Irelia</td>\n",
       "    </tr>\n",
       "    <tr>\n",
       "      <th>1</th>\n",
       "      <td>Lulu</td>\n",
       "      <td>Pantheon</td>\n",
       "      <td>Senna</td>\n",
       "      <td>Renekton</td>\n",
       "      <td>Olaf</td>\n",
       "      <td>Camille</td>\n",
       "      <td>Taliyah</td>\n",
       "      <td>Kai'Sa</td>\n",
       "      <td>Twisted Fate</td>\n",
       "      <td>Samira</td>\n",
       "      <td>Rell</td>\n",
       "      <td>Udyr</td>\n",
       "      <td>Orianna</td>\n",
       "      <td>Alistar</td>\n",
       "      <td>Azir</td>\n",
       "      <td>Nautilus</td>\n",
       "      <td>Leona</td>\n",
       "      <td>Gnar</td>\n",
       "      <td>Syndra</td>\n",
       "      <td>Irelia</td>\n",
       "    </tr>\n",
       "    <tr>\n",
       "      <th>2</th>\n",
       "      <td>Renekton</td>\n",
       "      <td>Pantheon</td>\n",
       "      <td>Camille</td>\n",
       "      <td>Lulu</td>\n",
       "      <td>Udyr</td>\n",
       "      <td>Seraphine</td>\n",
       "      <td>Olaf</td>\n",
       "      <td>Thresh</td>\n",
       "      <td>Graves</td>\n",
       "      <td>Senna</td>\n",
       "      <td>Tahm Kench</td>\n",
       "      <td>Aphelios</td>\n",
       "      <td>Twisted Fate</td>\n",
       "      <td>Azir</td>\n",
       "      <td>Karma</td>\n",
       "      <td>Orianna</td>\n",
       "      <td>Syndra</td>\n",
       "      <td>Zoe</td>\n",
       "      <td>Malphite</td>\n",
       "      <td>Gangplank</td>\n",
       "    </tr>\n",
       "    <tr>\n",
       "      <th>3</th>\n",
       "      <td>Renekton</td>\n",
       "      <td>Pantheon</td>\n",
       "      <td>Camille</td>\n",
       "      <td>Lulu</td>\n",
       "      <td>Thresh</td>\n",
       "      <td>Twisted Fate</td>\n",
       "      <td>Olaf</td>\n",
       "      <td>Udyr</td>\n",
       "      <td>Kai'Sa</td>\n",
       "      <td>Senna</td>\n",
       "      <td>Tahm Kench</td>\n",
       "      <td>Azir</td>\n",
       "      <td>Orianna</td>\n",
       "      <td>Irelia</td>\n",
       "      <td>Syndra</td>\n",
       "      <td>Jayce</td>\n",
       "      <td>Gnar</td>\n",
       "      <td>Karma</td>\n",
       "      <td>LeBlanc</td>\n",
       "      <td>Blitzcrank</td>\n",
       "    </tr>\n",
       "    <tr>\n",
       "      <th>4</th>\n",
       "      <td>Lulu</td>\n",
       "      <td>Pantheon</td>\n",
       "      <td>Lillia</td>\n",
       "      <td>Renekton</td>\n",
       "      <td>Olaf</td>\n",
       "      <td>Rell</td>\n",
       "      <td>Taliyah</td>\n",
       "      <td>Camille</td>\n",
       "      <td>Twisted Fate</td>\n",
       "      <td>Jax</td>\n",
       "      <td>Galio</td>\n",
       "      <td>Udyr</td>\n",
       "      <td>Samira</td>\n",
       "      <td>Senna</td>\n",
       "      <td>Thresh</td>\n",
       "      <td>Alistar</td>\n",
       "      <td>Kai'Sa</td>\n",
       "      <td>Xayah</td>\n",
       "      <td>Leona</td>\n",
       "      <td>Sett</td>\n",
       "    </tr>\n",
       "  </tbody>\n",
       "</table>\n",
       "</div>"
      ],
      "text/plain": [
       "        BB1       RB1      BB2       RB2     BB3           RB3      BP1  \\\n",
       "0      Lulu  Pantheon    Senna  Renekton    Olaf       Camille     Udyr   \n",
       "1      Lulu  Pantheon    Senna  Renekton    Olaf       Camille  Taliyah   \n",
       "2  Renekton  Pantheon  Camille      Lulu    Udyr     Seraphine     Olaf   \n",
       "3  Renekton  Pantheon  Camille      Lulu  Thresh  Twisted Fate     Olaf   \n",
       "4      Lulu  Pantheon   Lillia  Renekton    Olaf          Rell  Taliyah   \n",
       "\n",
       "            RP1           RP2     BP2         BP3       RP3           RB4  \\\n",
       "0  Twisted Fate        Kai'Sa  Samira        Azir   Taliyah          Rell   \n",
       "1        Kai'Sa  Twisted Fate  Samira        Rell      Udyr       Orianna   \n",
       "2        Thresh        Graves   Senna  Tahm Kench  Aphelios  Twisted Fate   \n",
       "3          Udyr        Kai'Sa   Senna  Tahm Kench      Azir       Orianna   \n",
       "4       Camille  Twisted Fate     Jax       Galio      Udyr        Samira   \n",
       "\n",
       "       BB4     RB5       BB5     RP4       BP4        BP5         RP5  \n",
       "0  Alistar  Gragas     Jayce   Leona  Nautilus  Gangplank      Irelia  \n",
       "1  Alistar    Azir  Nautilus   Leona      Gnar     Syndra      Irelia  \n",
       "2     Azir   Karma   Orianna  Syndra       Zoe   Malphite   Gangplank  \n",
       "3   Irelia  Syndra     Jayce    Gnar     Karma    LeBlanc  Blitzcrank  \n",
       "4    Senna  Thresh   Alistar  Kai'Sa     Xayah      Leona        Sett  "
      ]
     },
     "execution_count": 3,
     "metadata": {},
     "output_type": "execute_result"
    }
   ],
   "source": [
    "#isolate the input frames of hero choices by name\n",
    "isolated_input = in_data[['BB1', 'RB1', 'BB2', 'RB2', 'BB3', 'RB3', 'BP1', 'RP1','RP2','BP2','BP3', 'RP3', 'RB4','BB4', 'RB5', 'BB5', 'RP4', 'BP4','BP5', 'RP5']]\n",
    "isolated_input.head()"
   ]
  },
  {
   "cell_type": "code",
   "execution_count": 4,
   "metadata": {},
   "outputs": [
    {
     "data": {
      "text/plain": [
       "array([['Lulu', 'Pantheon', 'Senna', ..., 'Nautilus', 'Gangplank',\n",
       "        'Irelia'],\n",
       "       ['Lulu', 'Pantheon', 'Senna', ..., 'Gnar', 'Syndra', 'Irelia'],\n",
       "       ['Renekton', 'Pantheon', 'Camille', ..., 'Zoe', 'Malphite',\n",
       "        'Gangplank'],\n",
       "       ...,\n",
       "       ['Renekton', 'Ziggs', 'Thresh', ..., 'Volibear', 'Rakan', 'Braum'],\n",
       "       ['Ryze', 'LeBlanc', 'Tristana', ..., 'Sejuani', 'Jayce',\n",
       "        'Cassiopeia'],\n",
       "       ['Ryze', 'Kennen', 'Tristana', ..., 'Camille', 'Kindred', 'Jayce']],\n",
       "      dtype=object)"
      ]
     },
     "execution_count": 4,
     "metadata": {},
     "output_type": "execute_result"
    }
   ],
   "source": [
    "#Dataframe to Numpy\n",
    "inputnpArray = isolated_input.to_numpy()\n",
    "inputnpArray\n"
   ]
  },
  {
   "cell_type": "code",
   "execution_count": 5,
   "metadata": {},
   "outputs": [
    {
     "data": {
      "text/plain": [
       "array([[98, 71, 127, ..., 93, 41, 39],\n",
       "       [98, 71, 127, ..., 114, 107, 39],\n",
       "       [54, 71, 120, ..., 110, 50, 41],\n",
       "       ...,\n",
       "       [54, 97, 139, ..., 90, 145, 121],\n",
       "       [13, 7, 18, ..., 95, 103, 63],\n",
       "       [13, 76, 18, ..., 120, 123, 103]], dtype=object)"
      ]
     },
     "execution_count": 5,
     "metadata": {},
     "output_type": "execute_result"
    }
   ],
   "source": [
    "# Numpy convert Names to Ids\n",
    "for match in range(len(inputnpArray)):\n",
    "    for column in range(len(inputnpArray[match])):\n",
    "        inputnpArray[match][column] = champs.cNameToId(inputnpArray[match][column])\n",
    "\n",
    "inputnpArray\n",
    "\n"
   ]
  },
  {
   "cell_type": "code",
   "execution_count": null,
   "metadata": {},
   "outputs": [],
   "source": [
    "\n"
   ]
  },
  {
   "cell_type": "markdown",
   "metadata": {},
   "source": [
    "Here we have the data   \n",
    "In Raw form we want to make it into [In][Label] sets to    \n",
    "use in our Sequence to Sequence model   "
   ]
  },
  {
   "cell_type": "code",
   "execution_count": 6,
   "metadata": {},
   "outputs": [],
   "source": [
    "#Here we have the data\n",
    "# In Raw form we want to make it into [In][Label] sets to \n",
    "# use in our Sequence to Sequence model"
   ]
  },
  {
   "cell_type": "code",
   "execution_count": null,
   "metadata": {},
   "outputs": [],
   "source": []
  },
  {
   "cell_type": "code",
   "execution_count": 7,
   "metadata": {},
   "outputs": [
    {
     "name": "stdout",
     "output_type": "stream",
     "text": [
      "      BB1 RB1  BB2  RB2  BB3  RB3  BP1  RP1  RP2  BP2  BP3  RP3  RB4  BB4  \\\n",
      "0      98  71  127   54    2  120   68    4  112  138  136  118  149   12   \n",
      "1      98  71  127   54    2  120  118  112    4  138  149   68   57   12   \n",
      "2      54  71  120   98   68  113    2  139   88  127  125  151    4  136   \n",
      "3      54  71  120   98  139    4    2   68  112  127  125  136   57   39   \n",
      "4      98  71  157   54    2  149  118  120    4   24    3   68  138  127   \n",
      "...   ...  ..  ...  ...  ...  ...  ...  ...  ...  ...  ...  ...  ...  ...   \n",
      "4073    4  13    7   46    5  139   60  126   78  121  151   97  156  103   \n",
      "4074  139  97   54   60    4   13    7  120  104  103   46  126   92  151   \n",
      "4075   54  97  139   60  123   39   13    4  120   92   96    5   46  151   \n",
      "4076   13   7   18  139   92   76   97   39   55  120  144  152   57   75   \n",
      "4077   13  76   18   41   97   39    7  139  136   92  121   55   46   22   \n",
      "\n",
      "      RB5  BB5  RP4  BP4  BP5  RP5  \n",
      "0      70  103   78   93   41   39  \n",
      "1     136   93   78  114  107   39  \n",
      "2      43   57  107  110   50   41  \n",
      "3     107  103  114   43    7   49  \n",
      "4     139   12  112  146   78  153  \n",
      "...   ...  ...  ...  ...  ...  ...  \n",
      "4073   76   39   54  114  136   85  \n",
      "4074   72   18  145  122   12  146  \n",
      "4075    2   72   18   90  145  121  \n",
      "4076  123   22   72   95  103   63  \n",
      "4077    5   54  151  120  123  103  \n",
      "\n",
      "[4078 rows x 20 columns]\n"
     ]
    }
   ],
   "source": [
    "numberpd = pd.DataFrame(inputnpArray, columns=['BB1', 'RB1', 'BB2', 'RB2', 'BB3', 'RB3', 'BP1', 'RP1','RP2','BP2','BP3', 'RP3', 'RB4','BB4', 'RB5', 'BB5', 'RP4', 'BP4','BP5', 'RP5'])\n",
    "print(numberpd)"
   ]
  },
  {
   "cell_type": "code",
   "execution_count": 8,
   "metadata": {},
   "outputs": [],
   "source": [
    "traindf, testdf = train_test_split(numberpd, test_size=0.2)\n",
    "testdf, valdf = train_test_split(testdf, test_size=0.5)"
   ]
  },
  {
   "cell_type": "code",
   "execution_count": 9,
   "metadata": {},
   "outputs": [],
   "source": [
    "tfl = tf.keras.layers\n",
    "n_features=num_champs\n",
    "results = {}\n",
    "es = tf.keras.callbacks.EarlyStopping(monitor='val_loss', mode='min', patience=10)\n",
    "the_loss = 'mse'\n",
    "num_epochs=500\n",
    "from WindowGenerator import SplitGen\n",
    "\n",
    "splitter = SplitGen()\n",
    "train, test = train_test_split(inputnpArray, test_size=0.2)\n",
    "test, val = train_test_split(test, test_size=0.5)\n",
    "\n",
    "i=18\n",
    "o=2\n",
    "f=num_champs\n",
    "\n",
    "X_train, y_train = splitter.split_sequences(train, i, o, f)\n",
    "X_test, y_test = splitter.split_sequences(test, i, o, f)\n",
    "X_val, y_val = splitter.split_sequences(val, i, o, f)\n"
   ]
  },
  {
   "cell_type": "code",
   "execution_count": 10,
   "metadata": {},
   "outputs": [
    {
     "name": "stderr",
     "output_type": "stream",
     "text": [
      "2022-04-07 04:09:02.285883: I tensorflow/compiler/mlir/mlir_graph_optimization_pass.cc:185] None of the MLIR Optimization Passes are enabled (registered 2)\n",
      "2022-04-07 04:09:02.286056: W tensorflow/core/platform/profile_utils/cpu_utils.cc:128] Failed to get CPU frequency: 0 Hz\n"
     ]
    },
    {
     "name": "stdout",
     "output_type": "stream",
     "text": [
      "102/102 [==============================] - 7s 59ms/step - loss: 0.0857 - accuracy: 0.0066 - val_loss: 0.0063 - val_accuracy: 0.0000e+00\n",
      "\n",
      "\n",
      "eval-----\n",
      "13/13 [==============================] - 0s 20ms/step - loss: 0.0063 - accuracy: 0.0000e+00\n",
      "[0.0063291145488619804, 0.0]\n"
     ]
    }
   ],
   "source": [
    "doubleLSTM_model = tf.keras.Sequential([\n",
    "    tfl.LSTM(512, activation='relu', input_shape=(i, f)),\n",
    "    tfl.RepeatVector(o),\n",
    "    tfl.LSTM(256, activation='relu', return_sequences=True),\n",
    "    tfl.TimeDistributed(tfl.Dense(32)),\n",
    "    tfl.TimeDistributed(tfl.Dense(f,activation='sigmoid'))\n",
    "])\n",
    "\n",
    "\n",
    "doubleLSTM_model.compile(optimizer='adam', loss=the_loss, metrics=['accuracy'])\n",
    "\n",
    "doubleLSTM_model.fit(X_train,y_train, validation_data=(X_val, y_val), callbacks=[es], epochs=num_epochs)\n",
    "print(\"\\n\\neval-----\")\n",
    "results['doubleLSTM']=doubleLSTM_model.evaluate(X_test, y_test)\n",
    "print(results['doubleLSTM'])\n",
    "\n"
   ]
  },
  {
   "cell_type": "code",
   "execution_count": 11,
   "metadata": {},
   "outputs": [
    {
     "name": "stdout",
     "output_type": "stream",
     "text": [
      "102/102 [==============================] - 11s 97ms/step - loss: 0.0891 - accuracy: 0.0060 - val_loss: 0.0345 - val_accuracy: 0.0000e+00\n",
      "\n",
      "\n",
      "eval-----\n",
      "13/13 [==============================] - 0s 32ms/step - loss: 0.0347 - accuracy: 0.0012\n",
      "[0.03465498983860016, 0.0012254902394488454]\n"
     ]
    }
   ],
   "source": [
    "bidoubleLSTM_model = tf.keras.Sequential([\n",
    "    tfl.Bidirectional(tfl.LSTM(512, activation='relu', input_shape=(i, f))),\n",
    "    tfl.RepeatVector(o),\n",
    "    tfl.Bidirectional(tfl.LSTM(256, activation='relu', return_sequences=True)),\n",
    "    tfl.TimeDistributed(tfl.Dense(64)),\n",
    "    tfl.TimeDistributed(tfl.Dense(f,activation='sigmoid'))\n",
    "])\n",
    "bidoubleLSTM_model.compile(optimizer='adam', loss=the_loss, metrics=['accuracy'])\n",
    "\n",
    "bidoubleLSTM_model.fit(X_train,y_train, validation_data=(X_val, y_val), callbacks=[es], epochs=num_epochs)\n",
    "print(\"\\n\\neval-----\")\n",
    "results['bidoubleLSTM']=bidoubleLSTM_model.evaluate(X_test, y_test)\n",
    "print(results['bidoubleLSTM'])"
   ]
  },
  {
   "cell_type": "code",
   "execution_count": 12,
   "metadata": {},
   "outputs": [
    {
     "name": "stdout",
     "output_type": "stream",
     "text": [
      "102/102 [==============================] - 10s 88ms/step - loss: 0.0590 - accuracy: 0.0046 - val_loss: 0.0219 - val_accuracy: 0.0061\n",
      "\n",
      "\n",
      "eval-----\n",
      "13/13 [==============================] - 0s 28ms/step - loss: 0.0221 - accuracy: 0.0025\n",
      "[0.022066932171583176, 0.0024509804788976908]\n"
     ]
    }
   ],
   "source": [
    "hydoubleLSTM_model = tf.keras.Sequential([\n",
    "    tfl.Bidirectional(tfl.LSTM(512, activation='relu', input_shape=(i, f))),\n",
    "    tfl.RepeatVector(o),\n",
    "    tfl.LSTM(256, activation='relu', return_sequences=True),\n",
    "    tfl.TimeDistributed(tfl.Dense(64)),\n",
    "    tfl.TimeDistributed(tfl.Dense(f, activation='sigmoid'))\n",
    "])\n",
    "hydoubleLSTM_model.compile(optimizer='adam', loss=the_loss, metrics=['accuracy'])\n",
    "\n",
    "hydoubleLSTM_model.fit(X_train,y_train, validation_data=(X_val, y_val), callbacks=[es], epochs=num_epochs)\n",
    "print(\"\\n\\neval-----\")\n",
    "results['hydoublelstm']=hydoubleLSTM_model.evaluate(X_test, y_test)\n",
    "print(results['hydoublelstm'])"
   ]
  },
  {
   "cell_type": "code",
   "execution_count": 13,
   "metadata": {},
   "outputs": [
    {
     "name": "stdout",
     "output_type": "stream",
     "text": [
      "102/102 [==============================] - 5s 50ms/step - loss: 0.0062 - accuracy: 0.0469 - val_loss: 0.0062 - val_accuracy: 0.0539\n",
      "\n",
      "\n",
      "eval-----\n",
      "13/13 [==============================] - 0s 16ms/step - loss: 0.0062 - accuracy: 0.0711\n",
      "[0.006200538482517004, 0.07107843458652496]\n"
     ]
    }
   ],
   "source": [
    "lSTM_model = tf.keras.Sequential([\n",
    "    tfl.LSTM(512, activation='relu', input_shape=(i, f)),\n",
    "    tfl.RepeatVector(o),\n",
    "    tfl.TimeDistributed(tfl.Dense(64)),\n",
    "    tfl.TimeDistributed(tfl.Dense(f))\n",
    "])\n",
    "lSTM_model.compile(optimizer='adam', loss=the_loss, metrics=['accuracy'])\n",
    "\n",
    "lSTM_model.fit(X_train,y_train, validation_data=(X_val, y_val), callbacks=[es], epochs=num_epochs)\n",
    "print(\"\\n\\neval-----\")\n",
    "results['lstm']=lSTM_model.evaluate(X_test, y_test)\n",
    "print(results['lstm'])"
   ]
  },
  {
   "cell_type": "code",
   "execution_count": 14,
   "metadata": {},
   "outputs": [
    {
     "name": "stdout",
     "output_type": "stream",
     "text": [
      "102/102 [==============================] - 9s 81ms/step - loss: 0.0062 - accuracy: 0.0526 - val_loss: 0.0062 - val_accuracy: 0.0760\n",
      "\n",
      "\n",
      "eval-----\n",
      "13/13 [==============================] - 0s 24ms/step - loss: 0.0062 - accuracy: 0.0784\n",
      "[0.006203063763678074, 0.0784313753247261]\n"
     ]
    }
   ],
   "source": [
    "bi_LSTM_model = tf.keras.Sequential([\n",
    "    tfl.Bidirectional(tfl.LSTM(512, activation='relu', input_shape=(i, f))),\n",
    "    tfl.RepeatVector(o),\n",
    "    tfl.TimeDistributed(tfl.Dense(64)),\n",
    "    tfl.TimeDistributed(tfl.Dense(f))\n",
    "])\n",
    "bi_LSTM_model.compile(optimizer='adam', loss=the_loss, metrics=['accuracy'])\n",
    "\n",
    "bi_LSTM_model.fit(X_train,y_train, validation_data=(X_val, y_val), callbacks=[es], epochs=num_epochs)\n",
    "print(\"\\n\\neval-----\")\n",
    "results['bilstm']=bi_LSTM_model.evaluate(X_test, y_test)\n",
    "print(results['bilstm'])"
   ]
  },
  {
   "cell_type": "code",
   "execution_count": 15,
   "metadata": {},
   "outputs": [
    {
     "name": "stdout",
     "output_type": "stream",
     "text": [
      "102/102 [==============================] - 0s 1ms/step - loss: 0.0062 - accuracy: 0.0389 - val_loss: 0.0062 - val_accuracy: 0.0502\n",
      "\n",
      "\n",
      "eval-----\n",
      "\n",
      "13/13 [==============================] - 0s 506us/step - loss: 0.0062 - accuracy: 0.0539\n",
      "[0.0062143076211214066, 0.053921569138765335]\n"
     ]
    }
   ],
   "source": [
    "CONV_WIDTH = 3\n",
    "conv_model = tf.keras.Sequential([\n",
    "\n",
    " tf.keras.layers.Lambda(lambda x: x[:, -CONV_WIDTH:, :]),\n",
    "    # Shape => [batch, 1, conv_units]\n",
    "    tf.keras.layers.Conv1D(32, activation='relu', kernel_size=(CONV_WIDTH)),\n",
    "    tf.keras.layers.Flatten(),\n",
    "    tfl.Dense(128),\n",
    "    tf.keras.layers.Dense(o*f,\n",
    "                          kernel_initializer=tf.initializers.zeros()),\n",
    "    # Shape => [batch, out_steps, features]\n",
    "    tf.keras.layers.Reshape([o, f])\n",
    "\n",
    "])\n",
    "conv_model.compile(optimizer='adam', loss=the_loss, metrics=['accuracy'])\n",
    "\n",
    "conv_model.fit(X_train,y_train, validation_data=(X_val, y_val), callbacks=[es], epochs=num_epochs)\n",
    "print(\"\\n\\neval-----\\n\")\n",
    "results['conv']=conv_model.evaluate(X_test, y_test)\n",
    "print(results['conv'])"
   ]
  },
  {
   "cell_type": "code",
   "execution_count": 16,
   "metadata": {},
   "outputs": [
    {
     "name": "stdout",
     "output_type": "stream",
     "text": [
      "102/102 [==============================] - 1s 10ms/step - loss: 0.0333 - accuracy: 0.0254 - val_loss: 0.0063 - val_accuracy: 0.0294\n",
      "\n",
      "eval-----\n",
      "\n",
      "13/13 [==============================] - 0s 3ms/step - loss: 0.0063 - accuracy: 0.0282\n",
      "[0.006329105701297522, 0.02818627469241619]\n"
     ]
    }
   ],
   "source": [
    "clstm_model = tf.keras.Sequential([\n",
    "    tf.keras.layers.Conv1D(32, activation='relu', kernel_size=(CONV_WIDTH)),\n",
    "    tfl.MaxPooling1D(pool_size=2),\n",
    "    tfl.Flatten(),\n",
    "    tfl.RepeatVector(o),\n",
    "    tfl.LSTM(512, activation='relu', return_sequences=True), \n",
    "    tfl.TimeDistributed(tfl.Dense(256,activation='relu')),\n",
    "    tfl.TimeDistributed(tfl.Dense(f,activation='sigmoid'))\n",
    "])\n",
    "\n",
    "clstm_model.compile(optimizer='adam', loss=the_loss, metrics=['accuracy'])\n",
    "\n",
    "clstm_model.fit(X_train,y_train, validation_data=(X_val, y_val), callbacks=[es], epochs=num_epochs)\n",
    "print(\"\\neval-----\\n\")\n",
    "results['clstm']=clstm_model.evaluate(X_test, y_test)\n",
    "print(results['clstm'])"
   ]
  },
  {
   "cell_type": "code",
   "execution_count": 17,
   "metadata": {},
   "outputs": [
    {
     "name": "stdout",
     "output_type": "stream",
     "text": [
      "{'doubleLSTM': [0.0063291145488619804, 0.0], 'bidoubleLSTM': [0.03465498983860016, 0.0012254902394488454], 'hydoublelstm': [0.022066932171583176, 0.0024509804788976908], 'lstm': [0.006200538482517004, 0.07107843458652496], 'bilstm': [0.006203063763678074, 0.0784313753247261], 'conv': [0.0062143076211214066, 0.053921569138765335], 'clstm': [0.006329105701297522, 0.02818627469241619]}\n",
      "max on test: lstm: [0.006200538482517004, 0.07107843458652496]\n"
     ]
    }
   ],
   "source": [
    "print(results)\n",
    "win = max(results)\n",
    "print(f'max on test: {win}: {results[win]}')"
   ]
  },
  {
   "cell_type": "code",
   "execution_count": null,
   "metadata": {},
   "outputs": [],
   "source": []
  }
 ],
 "metadata": {
  "interpreter": {
   "hash": "31f2aee4e71d21fbe5cf8b01ff0e069b9275f58929596ceb00d14d90e3e16cd6"
  },
  "kernelspec": {
   "display_name": "Python 3.8.10 64-bit",
   "language": "python",
   "name": "python3"
  },
  "language_info": {
   "codemirror_mode": {
    "name": "ipython",
    "version": 3
   },
   "file_extension": ".py",
   "mimetype": "text/x-python",
   "name": "python",
   "nbconvert_exporter": "python",
   "pygments_lexer": "ipython3",
   "version": "3.9.0"
  },
  "orig_nbformat": 4
 },
 "nbformat": 4,
 "nbformat_minor": 2
}
