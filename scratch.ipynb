{
 "cells": [
  {
   "cell_type": "code",
   "execution_count": null,
   "metadata": {},
   "outputs": [],
   "source": [
    "import os\n",
    "import datetime\n",
    "from tqdm import tqdm\n",
    "import IPython\n",
    "import IPython.display\n",
    "import matplotlib as mpl\n",
    "import matplotlib.pyplot as plt\n",
    "import numpy as np\n",
    "import pandas as pd\n",
    "import seaborn as sns\n",
    "import tensorflow as tf\n",
    "from sklearn.model_selection import train_test_split\n",
    "from championWrapper import ChampionWrapper"
   ]
  },
  {
   "cell_type": "code",
   "execution_count": null,
   "metadata": {},
   "outputs": [],
   "source": [
    "in_data = pd.read_csv('pb_table.csv', index_col=False)\n",
    "champs = ChampionWrapper()\n",
    "\n",
    "num_champs = len(champs.champToID)\n",
    "num_champs\n"
   ]
  },
  {
   "cell_type": "code",
   "execution_count": null,
   "metadata": {},
   "outputs": [],
   "source": [
    "#isolate the input frames of hero choices by name\n",
    "isolated_input = in_data[['BB1', 'RB1', 'BB2', 'RB2', 'BB3', 'RB3', 'BP1', 'RP1','RP2','BP2','BP3', 'RP3', 'RB4','BB4', 'RB5', 'BB5', 'RP4', 'BP4','BP5', 'RP5']]\n",
    "isolated_input.head()"
   ]
  },
  {
   "cell_type": "code",
   "execution_count": null,
   "metadata": {},
   "outputs": [],
   "source": [
    "#Dataframe to Numpy\n",
    "inputnpArray = isolated_input.to_numpy()\n",
    "inputnpArray\n"
   ]
  },
  {
   "cell_type": "code",
   "execution_count": null,
   "metadata": {},
   "outputs": [],
   "source": [
    "# Numpy convert Names to Ids\n",
    "for match in range(len(inputnpArray)):\n",
    "    for column in range(len(inputnpArray[match])):\n",
    "        inputnpArray[match][column] = champs.cNameToId(inputnpArray[match][column])\n",
    "\n",
    "inputnpArray\n",
    "\n"
   ]
  },
  {
   "cell_type": "code",
   "execution_count": null,
   "metadata": {},
   "outputs": [],
   "source": [
    "\n"
   ]
  },
  {
   "cell_type": "markdown",
   "metadata": {},
   "source": [
    "Here we have the data   \n",
    "In Raw form we want to make it into [In][Label] sets to    \n",
    "use in our Sequence to Sequence model   "
   ]
  },
  {
   "cell_type": "code",
   "execution_count": null,
   "metadata": {},
   "outputs": [],
   "source": [
    "#Here we have the data\n",
    "# In Raw form we want to make it into [In][Label] sets to \n",
    "# use in our Sequence to Sequence model"
   ]
  },
  {
   "cell_type": "code",
   "execution_count": null,
   "metadata": {},
   "outputs": [],
   "source": []
  },
  {
   "cell_type": "code",
   "execution_count": null,
   "metadata": {},
   "outputs": [],
   "source": [
    "numberpd = pd.DataFrame(inputnpArray, columns=['BB1', 'RB1', 'BB2', 'RB2', 'BB3', 'RB3', 'BP1', 'RP1','RP2','BP2','BP3', 'RP3', 'RB4','BB4', 'RB5', 'BB5', 'RP4', 'BP4','BP5', 'RP5'])\n",
    "print(numberpd)"
   ]
  },
  {
   "cell_type": "code",
   "execution_count": null,
   "metadata": {},
   "outputs": [],
   "source": [
    "traindf, testdf = train_test_split(numberpd, test_size=0.2)\n",
    "testdf, valdf = train_test_split(testdf, test_size=0.5)"
   ]
  },
  {
   "cell_type": "code",
   "execution_count": null,
   "metadata": {},
   "outputs": [],
   "source": [
    "traindf.head()"
   ]
  },
  {
   "cell_type": "code",
   "execution_count": null,
   "metadata": {},
   "outputs": [],
   "source": [
    "testdf.head()\n"
   ]
  },
  {
   "cell_type": "code",
   "execution_count": null,
   "metadata": {},
   "outputs": [],
   "source": [
    "valdf.head()"
   ]
  },
  {
   "cell_type": "code",
   "execution_count": null,
   "metadata": {},
   "outputs": [],
   "source": [
    "traindf.shape"
   ]
  },
  {
   "cell_type": "code",
   "execution_count": null,
   "metadata": {},
   "outputs": [],
   "source": [
    "testdf.shape"
   ]
  },
  {
   "cell_type": "code",
   "execution_count": null,
   "metadata": {},
   "outputs": [],
   "source": [
    "valdf.shape"
   ]
  },
  {
   "cell_type": "code",
   "execution_count": null,
   "metadata": {},
   "outputs": [],
   "source": [
    "from WindowGenerator import WindowGenerator\n",
    "\n",
    "wg = WindowGenerator(9, 1, 1, train_df=traindf, val_df=valdf, test_df=testdf, label_columns=None)\n",
    "wg"
   ]
  },
  {
   "cell_type": "code",
   "execution_count": null,
   "metadata": {},
   "outputs": [],
   "source": [
    "tfl = tf.keras.layers\n",
    "n_features=num_champs\n",
    "es = tf.keras.callbacks.EarlyStopping(monitor='val_loss', mode='min', patience=15)\n",
    "from WindowGenerator import SplitGen\n",
    "\n",
    "splitter = SplitGen()\n",
    "train, test = train_test_split(inputnpArray, test_size=0.2)\n",
    "test, val = train_test_split(test, test_size=0.5)\n",
    "\n",
    "i=19\n",
    "o=1\n",
    "f=num_champs\n",
    "\n",
    "X_train, y_train = splitter.split_sequences(train, i, o, f)\n",
    "X_test, y_test = splitter.split_sequences(test, i, o, f)\n",
    "X_val, y_val = splitter.split_sequences(val, i, o, f)\n"
   ]
  },
  {
   "cell_type": "code",
   "execution_count": 27,
   "metadata": {},
   "outputs": [
    {
     "name": "stdout",
     "output_type": "stream",
     "text": [
      "Epoch 1/200\n",
      "102/102 [==============================] - 8s 69ms/step - loss: 0.0062 - accuracy: 0.0365 - val_loss: 0.0062 - val_accuracy: 0.0490\n",
      "Epoch 2/200\n",
      "102/102 [==============================] - 6s 63ms/step - loss: 0.0062 - accuracy: 0.0521 - val_loss: 0.0062 - val_accuracy: 0.0686\n",
      "Epoch 3/200\n",
      "102/102 [==============================] - 7s 67ms/step - loss: 0.0062 - accuracy: 0.0622 - val_loss: 0.0062 - val_accuracy: 0.0784\n",
      "Epoch 4/200\n",
      "102/102 [==============================] - 7s 65ms/step - loss: 0.0062 - accuracy: 0.0923 - val_loss: 0.0062 - val_accuracy: 0.0735\n",
      "Epoch 5/200\n",
      " 32/102 [========>.....................] - ETA: 4s - loss: 0.0061 - accuracy: 0.1104"
     ]
    }
   ],
   "source": [
    "doubleLSTM_model = tf.keras.Sequential([\n",
    "    tfl.LSTM(512, activation='relu', input_shape=(i, f)),\n",
    "    tfl.RepeatVector(o),\n",
    "    tfl.LSTM(256, activation='relu', return_sequences=True),\n",
    "    tfl.TimeDistributed(tfl.Dense(158))\n",
    "])\n",
    "doubleLSTM_model.compile(optimizer='adam', loss='mse', metrics=['accuracy'])\n",
    "\n",
    "doubleLSTM_model.fit(X_train,y_train, validation_data=(X_val, y_val), callbacks=[es], epochs=200)\n",
    "print(doubleLSTM_model.evaluate(X_test, y_test))\n"
   ]
  },
  {
   "cell_type": "code",
   "execution_count": null,
   "metadata": {},
   "outputs": [],
   "source": []
  },
  {
   "cell_type": "code",
   "execution_count": null,
   "metadata": {},
   "outputs": [],
   "source": []
  }
 ],
 "metadata": {
  "interpreter": {
   "hash": "31f2aee4e71d21fbe5cf8b01ff0e069b9275f58929596ceb00d14d90e3e16cd6"
  },
  "kernelspec": {
   "display_name": "Python 3.8.10 64-bit",
   "language": "python",
   "name": "python3"
  },
  "language_info": {
   "codemirror_mode": {
    "name": "ipython",
    "version": 3
   },
   "file_extension": ".py",
   "mimetype": "text/x-python",
   "name": "python",
   "nbconvert_exporter": "python",
   "pygments_lexer": "ipython3",
   "version": "3.8.10"
  },
  "orig_nbformat": 4
 },
 "nbformat": 4,
 "nbformat_minor": 2
}
